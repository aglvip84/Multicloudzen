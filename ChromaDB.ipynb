{
 "cells": [
  {
   "cell_type": "code",
   "execution_count": 21,
   "id": "c5d35769-24db-4d5d-9470-d589a406e29a",
   "metadata": {},
   "outputs": [
    {
     "data": {
      "text/plain": [
       "13"
      ]
     },
     "execution_count": 21,
     "metadata": {},
     "output_type": "execute_result"
    }
   ],
   "source": [
    "from langchain.document_loaders import DirectoryLoader\n",
    "\n",
    "directory = 'text_input_data'\n",
    "\n",
    "def load_docs(directory):\n",
    "  loader = DirectoryLoader(directory)\n",
    "  documents = loader.load()\n",
    "  return documents\n",
    "\n",
    "documents = load_docs(directory)\n",
    "len(documents)"
   ]
  },
  {
   "cell_type": "code",
   "execution_count": 22,
   "id": "4e035f9c-f068-45ff-aedc-5b13289ef0c4",
   "metadata": {},
   "outputs": [
    {
     "name": "stdout",
     "output_type": "stream",
     "text": [
      "2560\n"
     ]
    }
   ],
   "source": [
    "from langchain.text_splitter import RecursiveCharacterTextSplitter\n",
    "\n",
    "def split_docs(documents,chunk_size=2000,chunk_overlap=20):\n",
    "  text_splitter = RecursiveCharacterTextSplitter(chunk_size=chunk_size, chunk_overlap=chunk_overlap)\n",
    "  docs = text_splitter.split_documents(documents)\n",
    "  return docs\n",
    "\n",
    "docs = split_docs(documents)\n",
    "print(len(docs))"
   ]
  },
  {
   "cell_type": "code",
   "execution_count": 23,
   "id": "2e5a9276-a4e6-4a8f-9147-2ba82ebf7605",
   "metadata": {},
   "outputs": [],
   "source": [
    "from langchain.embeddings import SentenceTransformerEmbeddings\n",
    "embeddings = SentenceTransformerEmbeddings(model_name=\"all-MiniLM-L6-v2\")"
   ]
  },
  {
   "cell_type": "code",
   "execution_count": 24,
   "id": "f15f1b1b-f217-40e5-90df-99e4314d9cc2",
   "metadata": {},
   "outputs": [],
   "source": [
    "from langchain.vectorstores import Chroma\n",
    "db = Chroma.from_documents(docs, embeddings)"
   ]
  },
  {
   "cell_type": "code",
   "execution_count": 30,
   "id": "56c3e5b6-2e39-45e7-8274-5d4aaacdf1de",
   "metadata": {},
   "outputs": [
    {
     "data": {
      "text/plain": [
       "\"perspective, you need to do whatever you can to make sure that your services have optimal uptime and performance. A popular and effective method for enhancing availability and performance is load balancing. Load balancing is a method of distributing network traffic across servers that are part of a service. For example, if you have front-end web servers as part of your service, you can use load balancing to distribute the traffic across your multiple frontend web servers. This distribution of traffic increases availability because if one of the web servers becomes unavailable, the load balancer stops sending traffic to that server and redirects it to the servers that are still online. Load balancing also helps performance, because the processor, network, and memory overhead for serving requests is distributed across all the load-balanced servers. We recommend that you employ load balancing whenever you can, and as appropriate for your services. Following are scenarios at both the Azure virtual network level and the global level, along with load-balancing options for each. Scenario: You have an application that: Requires requests from the same user/client session to reach the same back-end virtual machine. Examples of this are shopping cart apps and web mail servers. Accepts only a secure connection, so unencrypted communication to the server isn't an acceptable option.\""
      ]
     },
     "execution_count": 30,
     "metadata": {},
     "output_type": "execute_result"
    }
   ],
   "source": [
    "query = \"How to high availability in Azure services?\"\n",
    "matching_docs = db.similarity_search(query,k=2)\n",
    "\n",
    "matching_docs[0].page_content"
   ]
  },
  {
   "cell_type": "code",
   "execution_count": 10,
   "id": "0c991685-4fc0-41ad-ba4a-8a501f8f857c",
   "metadata": {},
   "outputs": [],
   "source": [
    "persist_directory = \"ChromaDB\"\n",
    "\n",
    "vectordb = Chroma.from_documents(\n",
    "    documents=docs, embedding=embeddings, persist_directory=persist_directory\n",
    ")\n",
    "\n",
    "vectordb.persist()"
   ]
  },
  {
   "cell_type": "code",
   "execution_count": 13,
   "id": "cacfced3-8f1a-4039-882a-90b4d6a0346a",
   "metadata": {},
   "outputs": [],
   "source": [
    "new_db = Chroma(persist_directory=\"ChromaDB\",embedding_function=embeddings)"
   ]
  },
  {
   "cell_type": "code",
   "execution_count": 20,
   "id": "04b6eeb2-5acb-42b9-ac9c-70f56986ec8a",
   "metadata": {},
   "outputs": [
    {
     "data": {
      "text/plain": [
       "(Document(page_content='Resources\\n\\nRelated best practices:\\n\\nREL03-BP01 Choose how to segment your workload (p. 272)\\n\\nREL10-BP01 Deploy the workload to multiple locations (p. 328)\\n\\nREL11-BP01 Monitor all components of the workload to detect failures (p. 339)\\n\\nREL11-BP03 Automate healing on all layers (p. 342)\\n\\nREL12-BP05 Test resiliency using chaos engineering (p. 353)\\n\\nREL13-BP01 Define recovery objectives for downtime and data loss (p. 361)\\n\\nUnderstanding workload health\\n\\nRelated documents:\\n\\nAvailability with redundancy\\n\\nReliability pillar - Availability\\n\\nMeasuring availability\\n\\nAWS Fault Isolation Boundaries\\n\\nShared Responsibility Model for Resiliency\\n\\nStatic stability using Availability Zones\\n\\nAWS Service Level Agreements (SLAs)\\n\\nGuidance for Cell-based Architecture on AWS\\n\\nAWS infrastructure\\n\\nAdvanced Multi-AZ Resiliance Patterns whitepaper\\n\\nRelated services:\\n\\nAmazon CloudWatch\\n\\nAWS Config\\n\\nAWS Trusted Advisor\\n\\n349\\n\\nAWS Well-Architected Framework\\n\\nFailure management\\n\\nREL 12. How do you test reliability?', metadata={'source': 'text_input_data/wellarchitected-framework-pages-2.txt'}),\n",
       " 0.8513427376747131)"
      ]
     },
     "execution_count": 20,
     "metadata": {},
     "output_type": "execute_result"
    }
   ],
   "source": [
    "query = \"list all the resilient services in Aws\"\n",
    "matching_docs = new_db.similarity_search_with_score(query,k=4)\n",
    "matching_docs[0]"
   ]
  },
  {
   "cell_type": "code",
   "execution_count": null,
   "id": "5910b820-124c-4331-9d77-91fb88d20d53",
   "metadata": {},
   "outputs": [],
   "source": []
  }
 ],
 "metadata": {
  "kernelspec": {
   "display_name": "Python 3 (ipykernel)",
   "language": "python",
   "name": "python3"
  },
  "language_info": {
   "codemirror_mode": {
    "name": "ipython",
    "version": 3
   },
   "file_extension": ".py",
   "mimetype": "text/x-python",
   "name": "python",
   "nbconvert_exporter": "python",
   "pygments_lexer": "ipython3",
   "version": "3.11.4"
  }
 },
 "nbformat": 4,
 "nbformat_minor": 5
}
